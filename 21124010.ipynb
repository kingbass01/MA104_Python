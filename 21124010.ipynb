{
  "cells": [
    {
      "cell_type": "code",
      "execution_count": 52,
      "metadata": {
        "colab": {
          "base_uri": "https://localhost:8080/",
          "height": 521
        },
        "id": "6Ho-PTSGODR1",
        "outputId": "4126a007-79ba-4f93-9c45-22a4194c91eb"
      },
      "outputs": [
        {
          "output_type": "display_data",
          "data": {
            "text/plain": [
              "<IPython.core.display.HTML object>"
            ],
            "text/html": [
              "<iframe width=\"1264\" height=\"480\" src=\"https://www.youtube.com/embed/dQw4w9WgXcQ\" title=\"Rick Astley - Never Gonna Give You Up (Official Music Video)\" frameborder=\"0\" allow=\"accelerometer; autoplay; clipboard-write; encrypted-media; gyroscope; picture-in-picture\" allowfullscreen></iframe>"
            ]
          },
          "metadata": {}
        }
      ],
      "source": [
        "%%html\n",
        "<iframe width=\"1264\" height=\"480\" src=\"https://www.youtube.com/embed/dQw4w9WgXcQ\" title=\"Rick Astley - Never Gonna Give You Up (Official Music Video)\" frameborder=\"0\" allow=\"accelerometer; autoplay; clipboard-write; encrypted-media; gyroscope; picture-in-picture\" allowfullscreen></iframe>\n"
      ]
    },
    {
      "cell_type": "code",
      "execution_count": 7,
      "metadata": {
        "colab": {
          "base_uri": "https://localhost:8080/"
        },
        "id": "Eg-shpFzODSB",
        "outputId": "f6bf3845-771e-4904-dd3e-09e8898c3cb7"
      },
      "outputs": [
        {
          "output_type": "stream",
          "name": "stdout",
          "text": [
            "Total no. of cars are: 4\n"
          ]
        }
      ],
      "source": [
        "class Car:\n",
        "    \"\"\"Name of the class is Car\"\"\"\n",
        "    totalNumber = 0\n",
        "    def __init__(self, make, model, year):\n",
        "        Car.totalNumber+=1 \n",
        "        self.make = make\n",
        "        self.model = model\n",
        "        self.year = year\n",
        "        \n",
        "        \n",
        "    def displayParameters(self):\n",
        "        print(\"Make: \", self.make)\n",
        "        print(\"Model: \", self.model)\n",
        "        print(\"Year: \", self.year)\n",
        "        print()\n",
        "        \n",
        "car1 = Car(\"A\", \"B\", 2019)\n",
        "car2 = Car(\"C\", \"D\", 2017)\n",
        "car3 = Car(\"E\", \"F\", 2015)\n",
        "car4 = Car(\"G\", \"H\", 2013)\n",
        "print(\"Total no. of cars are:\", car1.totalNumber)"
      ]
    },
    {
      "cell_type": "code",
      "execution_count": 29,
      "metadata": {
        "id": "oOS5rFPuODSE"
      },
      "outputs": [],
      "source": [
        "#pass super\n",
        "class Car:\n",
        "    superString = \"Class variable is super Car clsss\"\n",
        "    def __init__(self,a,b,c):\n",
        "        print(\"Initialization method of super class is called\")\n",
        "    def superMethod():\n",
        "        print(\"Method of super class is called\")"
      ]
    },
    {
      "cell_type": "code",
      "execution_count": 26,
      "metadata": {
        "id": "GZ2BPW6iODSG"
      },
      "outputs": [],
      "source": [
        "class luxury():\n",
        "    superString = \"Class variable is super luxury clsss\"\n",
        "    def __init__(self):\n",
        "        # super.__init__()\n",
        "        print(\"Initialization method of luxury class is called\")\n",
        "    def superMethod():\n",
        "        print(\"Method of super calss luxury is called\")"
      ]
    },
    {
      "cell_type": "code",
      "source": [
        "class subCar(Car, luxury):\n",
        "    def __init__(self):\n",
        "        super.__init__()\n",
        "        print(\"Initialization method of subCar class is called\")"
      ],
      "metadata": {
        "id": "OWJj2XXrQE6C"
      },
      "execution_count": 31,
      "outputs": []
    },
    {
      "cell_type": "code",
      "execution_count": 32,
      "metadata": {
        "colab": {
          "base_uri": "https://localhost:8080/"
        },
        "id": "fJmayh2IODSI",
        "outputId": "8bb27b70-85d8-4b9f-c4f3-0f53beecd736"
      },
      "outputs": [
        {
          "output_type": "stream",
          "name": "stdout",
          "text": [
            "Method of super class is called\n",
            "Class variable is super Car clsss\n",
            "Method of super class is called\n"
          ]
        }
      ],
      "source": [
        "subCar.superMethod()\n",
        "print(subCar.superString)\n",
        "subCar.superMethod()"
      ]
    },
    {
      "cell_type": "code",
      "execution_count": 38,
      "metadata": {
        "id": "KC1D1k_5ODSN"
      },
      "outputs": [],
      "source": [
        "class circle:\n",
        "    def __init__(self,r,c):\n",
        "        self.r = r\n",
        "        self.c = c\n",
        "    \n",
        "    def __eq__(circle1 , circle2):\n",
        "        if(circle1.c == circle2.c):\n",
        "            return True\n",
        "        return False"
      ]
    },
    {
      "cell_type": "code",
      "execution_count": 48,
      "metadata": {
        "id": "WEa1-9fwODSO"
      },
      "outputs": [],
      "source": [
        "c1 = circle(2,8)\n",
        "c2 = circle(2,3)"
      ]
    },
    {
      "cell_type": "code",
      "execution_count": 49,
      "metadata": {
        "colab": {
          "base_uri": "https://localhost:8080/"
        },
        "id": "PUZVNx1KODSP",
        "outputId": "e28f2fca-02af-46ee-b9ed-5d0763d67f75"
      },
      "outputs": [
        {
          "output_type": "execute_result",
          "data": {
            "text/plain": [
              "False"
            ]
          },
          "metadata": {},
          "execution_count": 49
        }
      ],
      "source": [
        "c1==c2"
      ]
    },
    {
      "cell_type": "code",
      "execution_count": 37,
      "metadata": {
        "colab": {
          "base_uri": "https://localhost:8080/"
        },
        "id": "Js177Z-UODSQ",
        "outputId": "fb0d6723-0417-44d8-ad5f-798ace42541d"
      },
      "outputs": [
        {
          "output_type": "stream",
          "name": "stdout",
          "text": [
            "1\n"
          ]
        }
      ],
      "source": [
        "\n",
        "def pro(b,c,a):\n",
        "    print(2)\n",
        "def pro(a,b):\n",
        "    print(1)\n",
        "\n",
        "pro(1,2)"
      ]
    },
    {
      "cell_type": "code",
      "execution_count": 60,
      "metadata": {
        "id": "p3hTUY6IODSR"
      },
      "outputs": [],
      "source": [
        "def fun(p1, *args, **kwargs):\n",
        "    print(type(args))\n",
        "    print(type(kwargs))\n",
        "    \n",
        "    print(args[0])\n",
        "    print(args[1])\n",
        "    print(kwargs[\"number\"])\n",
        "    print(p1,args,kwargs)"
      ]
    },
    {
      "cell_type": "code",
      "execution_count": 59,
      "metadata": {
        "id": "TaAQQg2xODSS"
      },
      "outputs": [],
      "source": [
        "def f(p1,p2,**kwargs):\n",
        "    name = kwargs.get(\"name\")\n",
        "    if(name):\n",
        "        return name, p1+p2\n",
        "    return p1+p2\n"
      ]
    },
    {
      "cell_type": "code",
      "execution_count": 58,
      "metadata": {
        "scrolled": true,
        "colab": {
          "base_uri": "https://localhost:8080/"
        },
        "id": "vCcWDXhQODST",
        "outputId": "d31022b0-f71e-45af-feba-d9ae3432b510"
      },
      "outputs": [
        {
          "output_type": "execute_result",
          "data": {
            "text/plain": [
              "5"
            ]
          },
          "metadata": {},
          "execution_count": 58
        }
      ],
      "source": [
        "f(2,3)"
      ]
    },
    {
      "cell_type": "code",
      "execution_count": 61,
      "metadata": {
        "colab": {
          "base_uri": "https://localhost:8080/"
        },
        "id": "16Rnaal8ODSU",
        "outputId": "e0d74698-c3de-4ae4-9d3f-7973cb780916"
      },
      "outputs": [
        {
          "output_type": "execute_result",
          "data": {
            "text/plain": [
              "('aryan', 5)"
            ]
          },
          "metadata": {},
          "execution_count": 61
        }
      ],
      "source": [
        "f(2,3,name=\"aryan\")"
      ]
    },
    {
      "cell_type": "code",
      "execution_count": null,
      "metadata": {
        "id": "HrJIou7yODSV",
        "outputId": "3026fb58-49cb-419b-d570-b87c78cf078b"
      },
      "outputs": [
        {
          "name": "stdout",
          "output_type": "stream",
          "text": [
            "<class 'tuple'>\n",
            "<class 'dict'>\n",
            "2\n",
            "3\n",
            "3\n",
            "1 (2, 3, 4, 5, 6, 7, 8, 8, 9) {'number': 3, 'number2': 5, 'number3': 4}\n"
          ]
        }
      ],
      "source": [
        "fun(1,2,3,4,5,6,7,8,8,9,number=3,number2=5,number3=4)"
      ]
    }
  ],
  "metadata": {
    "kernelspec": {
      "display_name": "Python 3",
      "language": "python",
      "name": "python3"
    },
    "language_info": {
      "codemirror_mode": {
        "name": "ipython",
        "version": 3
      },
      "file_extension": ".py",
      "mimetype": "text/x-python",
      "name": "python",
      "nbconvert_exporter": "python",
      "pygments_lexer": "ipython3",
      "version": "3.7.4"
    },
    "colab": {
      "name": "MA104 2022 class 1.ipynb",
      "provenance": []
    }
  },
  "nbformat": 4,
  "nbformat_minor": 0
}